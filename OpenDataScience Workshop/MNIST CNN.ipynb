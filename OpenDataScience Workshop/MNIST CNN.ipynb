{
 "cells": [
  {
   "cell_type": "code",
   "execution_count": 2,
   "metadata": {},
   "outputs": [
    {
     "name": "stdout",
     "output_type": "stream",
     "text": [
      "Using matplotlib backend: MacOSX\n",
      "Populating the interactive namespace from numpy and matplotlib\n"
     ]
    }
   ],
   "source": [
    "%pylab\n",
    "%matplotlib inline\n",
    "import torch\n",
    "import torch.nn as nn\n",
    "import numpy as np\n",
    "import torch.nn.functional as F\n",
    "import torch.optim as optim\n",
    "import torchvision\n",
    "from torchvision import datasets, transforms\n",
    "from torch.autograd import Variable\n",
    "#import progressbar"
   ]
  },
  {
   "cell_type": "code",
   "execution_count": 3,
   "metadata": {
    "collapsed": true
   },
   "outputs": [],
   "source": [
    "# The initial size of the First layer\n",
    "input_size = 784\n",
    "\n",
    "# The hidden state size\n",
    "hidden_size = 500\n",
    "\n",
    "# Number of different classes in MNIST classification task\n",
    "num_classes = 10\n",
    "\n",
    "# Total number of iteration/epochs we will be running our network\n",
    "num_epochs = 5\n",
    "\n",
    "# Number of example(batch_size) to be fed to the network at once\n",
    "batch_size = 100\n",
    "\n",
    "# The rate at which the network learns/unlearns\n",
    "learning_rate = 0.001"
   ]
  },
  {
   "cell_type": "code",
   "execution_count": 4,
   "metadata": {},
   "outputs": [
    {
     "name": "stdout",
     "output_type": "stream",
     "text": [
      "Downloading http://yann.lecun.com/exdb/mnist/train-images-idx3-ubyte.gz\n",
      "Downloading http://yann.lecun.com/exdb/mnist/train-labels-idx1-ubyte.gz\n",
      "Downloading http://yann.lecun.com/exdb/mnist/t10k-images-idx3-ubyte.gz\n",
      "Downloading http://yann.lecun.com/exdb/mnist/t10k-labels-idx1-ubyte.gz\n",
      "Processing...\n",
      "Done!\n"
     ]
    }
   ],
   "source": [
    "train_loader = torch.utils.data.DataLoader(\n",
    "    datasets.MNIST('data', train=True, download=True, transform=transforms.ToTensor()),\n",
    "    batch_size=1, shuffle=True)\n",
    "\n"
   ]
  },
  {
   "cell_type": "code",
   "execution_count": 5,
   "metadata": {
    "collapsed": true
   },
   "outputs": [],
   "source": [
    "test_loader = torch.utils.data.DataLoader(\n",
    "    datasets.MNIST('data', train=False, transform=transforms.ToTensor()),\n",
    "    batch_size=1000)"
   ]
  },
  {
   "cell_type": "code",
   "execution_count": 6,
   "metadata": {},
   "outputs": [
    {
     "name": "stdout",
     "output_type": "stream",
     "text": [
      "==>>> total trainning batch number: 60000\n",
      "==>>> total testing batch number: 10\n"
     ]
    }
   ],
   "source": [
    "print ('==>>> total trainning batch number: {}'.format(len(train_loader)))\n",
    "print ('==>>> total testing batch number: {}'.format(len(test_loader)))"
   ]
  },
  {
   "cell_type": "code",
   "execution_count": 7,
   "metadata": {},
   "outputs": [
    {
     "data": {
      "text/plain": [
       "<matplotlib.image.AxesImage at 0x11e3d5048>"
      ]
     },
     "execution_count": 7,
     "metadata": {},
     "output_type": "execute_result"
    },
    {
     "data": {
      "image/png": "[encoded data removed]",
      "text/plain": [
       "<matplotlib.figure.Figure at 0x10f029b70>"
      ]
     },
     "metadata": {},
     "output_type": "display_data"
    }
   ],
   "source": [
    "images,_ = next(iter(train_loader))\n",
    "i = torchvision.utils.make_grid(images).numpy()\n",
    "i = np.transpose(i,(1,2,0))\n",
    "plt.imshow(i)"
   ]
  },
  {
   "cell_type": "code",
   "execution_count": 8,
   "metadata": {
    "collapsed": true
   },
   "outputs": [],
   "source": [
    "class Net(nn.Module):\n",
    "    def __init__(self, input_size, hidden_size, num_classes):\n",
    "        super(Net, self).__init__()\n",
    "        self.fc1 = nn.Linear(input_size, hidden_size) \n",
    "        self.relu = nn.ReLU()\n",
    "        self.fc2 = nn.Linear(hidden_size, num_classes)  \n",
    "    \n",
    "    def forward(self, x):\n",
    "        out = self.fc1(x)\n",
    "        out = self.relu(out)\n",
    "        out = self.fc2(out)\n",
    "        return out"
   ]
  },
  {
   "cell_type": "code",
   "execution_count": 9,
   "metadata": {},
   "outputs": [
    {
     "data": {
      "text/plain": [
       "Net (\n",
       "  (fc1): Linear (784 -> 500)\n",
       "  (relu): ReLU ()\n",
       "  (fc2): Linear (500 -> 10)\n",
       ")"
      ]
     },
     "execution_count": 9,
     "metadata": {},
     "output_type": "execute_result"
    }
   ],
   "source": [
    "net = Net(input_size, hidden_size, num_classes)\n",
    "net"
   ]
  },
  {
   "cell_type": "code",
   "execution_count": 11,
   "metadata": {},
   "outputs": [
    {
     "name": "stdout",
     "output_type": "stream",
     "text": [
      "Epoch [1/5], Step [500/37], Loss: 0.7273\n",
      "Epoch [1/5], Step [1000/37], Loss: 0.2271\n",
      "Epoch [1/5], Step [1500/37], Loss: 0.9499\n",
      "Epoch [1/5], Step [2000/37], Loss: 3.2495\n",
      "Epoch [1/5], Step [2500/37], Loss: 0.0020\n",
      "Epoch [1/5], Step [3000/37], Loss: 2.8271\n",
      "Epoch [1/5], Step [3500/37], Loss: 0.0012\n",
      "Epoch [1/5], Step [4000/37], Loss: 0.0024\n",
      "Epoch [1/5], Step [4500/37], Loss: 0.0042\n",
      "Epoch [1/5], Step [5000/37], Loss: 0.0115\n",
      "Epoch [1/5], Step [5500/37], Loss: 0.0000\n",
      "Epoch [1/5], Step [6000/37], Loss: 0.0602\n",
      "Epoch [1/5], Step [6500/37], Loss: 0.0001\n",
      "Epoch [1/5], Step [7000/37], Loss: 0.7208\n",
      "Epoch [1/5], Step [7500/37], Loss: 0.0119\n",
      "Epoch [1/5], Step [8000/37], Loss: 0.0000\n",
      "Epoch [1/5], Step [8500/37], Loss: 0.0000\n",
      "Epoch [1/5], Step [9000/37], Loss: 0.0401\n",
      "Epoch [1/5], Step [9500/37], Loss: 0.0000\n",
      "Epoch [1/5], Step [10000/37], Loss: 0.0000\n",
      "Epoch [1/5], Step [10500/37], Loss: 0.0002\n",
      "Epoch [1/5], Step [11000/37], Loss: 0.0781\n",
      "Epoch [1/5], Step [11500/37], Loss: 1.4436\n",
      "Epoch [1/5], Step [12000/37], Loss: 0.8075\n",
      "Epoch [1/5], Step [12500/37], Loss: 0.0000\n",
      "Epoch [1/5], Step [13000/37], Loss: 0.0050\n",
      "Epoch [1/5], Step [13500/37], Loss: 0.0020\n",
      "Epoch [1/5], Step [14000/37], Loss: 1.8928\n",
      "Epoch [1/5], Step [14500/37], Loss: 0.0000\n",
      "Epoch [1/5], Step [15000/37], Loss: 0.0001\n",
      "Epoch [1/5], Step [15500/37], Loss: 0.0005\n",
      "Epoch [1/5], Step [16000/37], Loss: 0.1403\n",
      "Epoch [1/5], Step [16500/37], Loss: 0.0000\n",
      "Epoch [1/5], Step [17000/37], Loss: 0.0002\n",
      "Epoch [1/5], Step [17500/37], Loss: 0.0000\n",
      "Epoch [1/5], Step [18000/37], Loss: 0.0010\n",
      "Epoch [1/5], Step [18500/37], Loss: 0.0000\n",
      "Epoch [1/5], Step [19000/37], Loss: 0.0245\n",
      "Epoch [1/5], Step [19500/37], Loss: 0.0070\n",
      "Epoch [1/5], Step [20000/37], Loss: 1.1090\n",
      "Epoch [1/5], Step [20500/37], Loss: 0.0000\n",
      "Epoch [1/5], Step [21000/37], Loss: 0.3109\n",
      "Epoch [1/5], Step [21500/37], Loss: 0.0152\n",
      "Epoch [1/5], Step [22000/37], Loss: 0.0000\n",
      "Epoch [1/5], Step [22500/37], Loss: 0.9986\n",
      "Epoch [1/5], Step [23000/37], Loss: 0.0001\n",
      "Epoch [1/5], Step [23500/37], Loss: 0.0000\n",
      "Epoch [1/5], Step [24000/37], Loss: 0.0008\n",
      "Epoch [1/5], Step [24500/37], Loss: 0.0001\n",
      "Epoch [1/5], Step [25000/37], Loss: 0.0050\n",
      "Epoch [1/5], Step [25500/37], Loss: 0.0024\n",
      "Epoch [1/5], Step [26000/37], Loss: 0.0000\n",
      "Epoch [1/5], Step [26500/37], Loss: 0.0000\n",
      "Epoch [1/5], Step [27000/37], Loss: 0.0003\n",
      "Epoch [1/5], Step [27500/37], Loss: 0.0000\n",
      "Epoch [1/5], Step [28000/37], Loss: 0.0000\n",
      "Epoch [1/5], Step [28500/37], Loss: 0.7902\n",
      "Epoch [1/5], Step [29000/37], Loss: 0.0000\n",
      "Epoch [1/5], Step [29500/37], Loss: 0.0008\n",
      "Epoch [1/5], Step [30000/37], Loss: 0.0119\n",
      "Epoch [1/5], Step [30500/37], Loss: 0.0066\n",
      "Epoch [1/5], Step [31000/37], Loss: 0.0067\n",
      "Epoch [1/5], Step [31500/37], Loss: 0.0000\n",
      "Epoch [1/5], Step [32000/37], Loss: 0.0028\n",
      "Epoch [1/5], Step [32500/37], Loss: 0.0000\n",
      "Epoch [1/5], Step [33000/37], Loss: 0.0000\n",
      "Epoch [1/5], Step [33500/37], Loss: 0.0448\n",
      "Epoch [1/5], Step [34000/37], Loss: 0.0000\n",
      "Epoch [1/5], Step [34500/37], Loss: 0.0000\n",
      "Epoch [1/5], Step [35000/37], Loss: 0.0000\n",
      "Epoch [1/5], Step [35500/37], Loss: 0.0000\n",
      "Epoch [1/5], Step [36000/37], Loss: 0.0000\n",
      "Epoch [1/5], Step [36500/37], Loss: 0.0173\n",
      "Epoch [1/5], Step [37000/37], Loss: 0.0000\n",
      "Epoch [1/5], Step [37500/37], Loss: 0.0007\n",
      "Epoch [1/5], Step [38000/37], Loss: 0.0012\n",
      "Epoch [1/5], Step [38500/37], Loss: 0.0000\n",
      "Epoch [1/5], Step [39000/37], Loss: 0.0000\n",
      "Epoch [1/5], Step [39500/37], Loss: 0.0000\n",
      "Epoch [1/5], Step [40000/37], Loss: 0.0000\n",
      "Epoch [1/5], Step [40500/37], Loss: 1.2585\n",
      "Epoch [1/5], Step [41000/37], Loss: 0.0034\n",
      "Epoch [1/5], Step [41500/37], Loss: 0.1066\n",
      "Epoch [1/5], Step [42000/37], Loss: 0.0000\n",
      "Epoch [1/5], Step [42500/37], Loss: 0.0002\n",
      "Epoch [1/5], Step [43000/37], Loss: 0.0045\n",
      "Epoch [1/5], Step [43500/37], Loss: 0.0000\n",
      "Epoch [1/5], Step [44000/37], Loss: 0.0000\n",
      "Epoch [1/5], Step [44500/37], Loss: 0.0000\n",
      "Epoch [1/5], Step [45000/37], Loss: 0.0592\n",
      "Epoch [1/5], Step [45500/37], Loss: 0.0000\n",
      "Epoch [1/5], Step [46000/37], Loss: 0.0001\n",
      "Epoch [1/5], Step [46500/37], Loss: 0.0000\n",
      "Epoch [1/5], Step [47000/37], Loss: 0.0043\n",
      "Epoch [1/5], Step [47500/37], Loss: 0.0000\n",
      "Epoch [1/5], Step [48000/37], Loss: 0.0400\n",
      "Epoch [1/5], Step [48500/37], Loss: 0.0000\n",
      "Epoch [1/5], Step [49000/37], Loss: 0.0000\n",
      "Epoch [1/5], Step [49500/37], Loss: 0.0000\n",
      "Epoch [1/5], Step [50000/37], Loss: 0.0001\n",
      "Epoch [1/5], Step [50500/37], Loss: 0.0000\n",
      "Epoch [1/5], Step [51000/37], Loss: 2.3909\n",
      "Epoch [1/5], Step [51500/37], Loss: 0.0000\n",
      "Epoch [1/5], Step [52000/37], Loss: 0.4067\n",
      "Epoch [1/5], Step [52500/37], Loss: 0.0000\n",
      "Epoch [1/5], Step [53000/37], Loss: 0.0000\n",
      "Epoch [1/5], Step [53500/37], Loss: 0.0001\n",
      "Epoch [1/5], Step [54000/37], Loss: 0.0000\n",
      "Epoch [1/5], Step [54500/37], Loss: 0.0024\n",
      "Epoch [1/5], Step [55000/37], Loss: 0.0000\n",
      "Epoch [1/5], Step [55500/37], Loss: 0.0000\n",
      "Epoch [1/5], Step [56000/37], Loss: 0.0264\n",
      "Epoch [1/5], Step [56500/37], Loss: 0.0000\n",
      "Epoch [1/5], Step [57000/37], Loss: 0.0000\n",
      "Epoch [1/5], Step [57500/37], Loss: 0.0000\n",
      "Epoch [1/5], Step [58000/37], Loss: 0.0000\n",
      "Epoch [1/5], Step [58500/37], Loss: 0.0059\n"
     ]
    },
    {
     "ename": "KeyboardInterrupt",
     "evalue": "",
     "output_type": "error",
     "traceback": [
      "\u001b[0;31m---------------------------------------------------------------------------\u001b[0m",
      "\u001b[0;31mKeyboardInterrupt\u001b[0m                         Traceback (most recent call last)",
      "\u001b[0;32m<ipython-input-11-e353473f1361>\u001b[0m in \u001b[0;36m<module>\u001b[0;34m()\u001b[0m\n\u001b[1;32m     19\u001b[0m \u001b[0;34m\u001b[0m\u001b[0m\n\u001b[1;32m     20\u001b[0m         \u001b[0mtrain_loss_mlp\u001b[0m\u001b[0;34m.\u001b[0m\u001b[0mappend\u001b[0m\u001b[0;34m(\u001b[0m\u001b[0mloss\u001b[0m\u001b[0;34m.\u001b[0m\u001b[0mdata\u001b[0m\u001b[0;34m[\u001b[0m\u001b[0;36m0\u001b[0m\u001b[0;34m]\u001b[0m\u001b[0;34m)\u001b[0m\u001b[0;34m\u001b[0m\u001b[0m\n\u001b[0;32m---> 21\u001b[0;31m         \u001b[0moptimizer\u001b[0m\u001b[0;34m.\u001b[0m\u001b[0mstep\u001b[0m\u001b[0;34m(\u001b[0m\u001b[0;34m)\u001b[0m\u001b[0;34m\u001b[0m\u001b[0m\n\u001b[0m\u001b[1;32m     22\u001b[0m \u001b[0;34m\u001b[0m\u001b[0m\n\u001b[1;32m     23\u001b[0m         \u001b[0mprediction\u001b[0m \u001b[0;34m=\u001b[0m \u001b[0moutputs\u001b[0m\u001b[0;34m.\u001b[0m\u001b[0mdata\u001b[0m\u001b[0;34m.\u001b[0m\u001b[0mmax\u001b[0m\u001b[0;34m(\u001b[0m\u001b[0;36m1\u001b[0m\u001b[0;34m)\u001b[0m\u001b[0;34m[\u001b[0m\u001b[0;36m1\u001b[0m\u001b[0;34m]\u001b[0m   \u001b[0;31m# first column has actual prob.\u001b[0m\u001b[0;34m\u001b[0m\u001b[0m\n",
      "\u001b[0;32m/anaconda/lib/python3.6/site-packages/torch/optim/adam.py\u001b[0m in \u001b[0;36mstep\u001b[0;34m(self, closure)\u001b[0m\n\u001b[1;32m     72\u001b[0m                 \u001b[0mstep_size\u001b[0m \u001b[0;34m=\u001b[0m \u001b[0mgroup\u001b[0m\u001b[0;34m[\u001b[0m\u001b[0;34m'lr'\u001b[0m\u001b[0;34m]\u001b[0m \u001b[0;34m*\u001b[0m \u001b[0mmath\u001b[0m\u001b[0;34m.\u001b[0m\u001b[0msqrt\u001b[0m\u001b[0;34m(\u001b[0m\u001b[0mbias_correction2\u001b[0m\u001b[0;34m)\u001b[0m \u001b[0;34m/\u001b[0m \u001b[0mbias_correction1\u001b[0m\u001b[0;34m\u001b[0m\u001b[0m\n\u001b[1;32m     73\u001b[0m \u001b[0;34m\u001b[0m\u001b[0m\n\u001b[0;32m---> 74\u001b[0;31m                 \u001b[0mp\u001b[0m\u001b[0;34m.\u001b[0m\u001b[0mdata\u001b[0m\u001b[0;34m.\u001b[0m\u001b[0maddcdiv_\u001b[0m\u001b[0;34m(\u001b[0m\u001b[0;34m-\u001b[0m\u001b[0mstep_size\u001b[0m\u001b[0;34m,\u001b[0m \u001b[0mexp_avg\u001b[0m\u001b[0;34m,\u001b[0m \u001b[0mdenom\u001b[0m\u001b[0;34m)\u001b[0m\u001b[0;34m\u001b[0m\u001b[0m\n\u001b[0m\u001b[1;32m     75\u001b[0m \u001b[0;34m\u001b[0m\u001b[0m\n\u001b[1;32m     76\u001b[0m         \u001b[0;32mreturn\u001b[0m \u001b[0mloss\u001b[0m\u001b[0;34m\u001b[0m\u001b[0m\n",
      "\u001b[0;31mKeyboardInterrupt\u001b[0m: "
     ]
    }
   ],
   "source": [
    "train_loss_mlp = []\n",
    "train_accu_mlp = []\n",
    "\n",
    "criterion = nn.CrossEntropyLoss()  \n",
    "optimizer = torch.optim.Adam(net.parameters(), lr=learning_rate)  \n",
    "\n",
    "#bar = progressbar.ProgressBar()\n",
    "for epoch in (range(num_epochs)):\n",
    "    for i, (images, labels) in enumerate(train_loader):  \n",
    "        # Convert torch tensor to Variable\n",
    "        images = Variable(images.view(-1, 28*28))\n",
    "        labels = Variable(labels)\n",
    "        \n",
    "        # Forward + Backward + Optimize\n",
    "        optimizer.zero_grad()  # zero the gradient buffer\n",
    "        outputs = net(images)\n",
    "        loss = criterion(outputs, labels)\n",
    "        loss.backward()\n",
    "        \n",
    "        train_loss_mlp.append(loss.data[0])\n",
    "        optimizer.step()\n",
    "        \n",
    "        prediction = outputs.data.max(1)[1]   # first column has actual prob.\n",
    "        accuracy = prediction.eq(labels.data).sum()/batch_size*100\n",
    "        train_accu_mlp.append(accuracy)\n",
    "        \n",
    "        \n",
    "        if (i+1) % 500 == 0:\n",
    "            print ('Epoch [%d/%d], Step [%d/%d], Loss: %.4f' \n",
    "                   %(epoch+1, num_epochs, i+1, 3750//batch_size, loss.data[0]))"
   ]
  },
  {
   "cell_type": "code",
   "execution_count": null,
   "metadata": {
    "collapsed": true
   },
   "outputs": [],
   "source": [
    "correct = 0\n",
    "total = 0\n",
    "for images, labels in test_loader:\n",
    "    images = Variable(images.view(-1, 28*28))\n",
    "    outputs = net(images)\n",
    "    _, predicted = torch.max(outputs.data, 1)\n",
    "    total += labels.size(0)\n",
    "    correct += (predicted.cpu() == labels).sum()\n",
    "\n",
    "print('Accuracy of the network on the 10000 test images: %d %%' % (100 * correct / total))"
   ]
  },
  {
   "cell_type": "code",
   "execution_count": null,
   "metadata": {
    "collapsed": true
   },
   "outputs": [],
   "source": [
    "plt.plot(np.arange(len(train_loss_mlp)), train_loss_mlp)"
   ]
  },
  {
   "cell_type": "code",
   "execution_count": null,
   "metadata": {
    "collapsed": true
   },
   "outputs": [],
   "source": [
    "plt.plot(np.arange(len(train_accu_mlp)), train_accu_mlp)"
   ]
  },
  {
   "cell_type": "code",
   "execution_count": 12,
   "metadata": {},
   "outputs": [
    {
     "name": "stdout",
     "output_type": "stream",
     "text": [
      "Accuracy of the network on the 10000 test images: 96 %\n"
     ]
    }
   ],
   "source": [
    "correct = 0\n",
    "total = 0\n",
    "for images, labels in test_loader:\n",
    "    images = Variable(images.view(-1, 28*28))\n",
    "    outputs = net(images)\n",
    "    _, predicted = torch.max(outputs.data, 1)\n",
    "    total += labels.size(0)\n",
    "    correct += (predicted.cpu() == labels).sum()\n",
    "\n",
    "print('Accuracy of the network on the 10000 test images: %d %%' % (100 * correct / total))"
   ]
  },
  {
   "cell_type": "code",
   "execution_count": 13,
   "metadata": {},
   "outputs": [
    {
     "data": {
      "text/plain": [
       "[<matplotlib.lines.Line2D at 0x11e0f2ba8>]"
      ]
     },
     "execution_count": 13,
     "metadata": {},
     "output_type": "execute_result"
    },
    {
     "data": {
      "image/png": "[encoded data removed]",
      "text/plain": [
       "<matplotlib.figure.Figure at 0x10f43d940>"
      ]
     },
     "metadata": {},
     "output_type": "display_data"
    }
   ],
   "source": [
    "plt.plot(np.arange(len(train_loss_mlp)), train_loss_mlp)"
   ]
  },
  {
   "cell_type": "code",
   "execution_count": 14,
   "metadata": {},
   "outputs": [
    {
     "data": {
      "text/plain": [
       "[<matplotlib.lines.Line2D at 0x11fa86198>]"
      ]
     },
     "execution_count": 14,
     "metadata": {},
     "output_type": "execute_result"
    },
    {
     "data": {
      "image/png": "[encoded data removed]",
      "text/plain": [
       "<matplotlib.figure.Figure at 0x11e106278>"
      ]
     },
     "metadata": {},
     "output_type": "display_data"
    }
   ],
   "source": [
    "plt.plot(np.arange(len(train_accu_mlp)), train_accu_mlp)"
   ]
  },
  {
   "cell_type": "code",
   "execution_count": 15,
   "metadata": {
    "collapsed": true
   },
   "outputs": [],
   "source": [
    "train_loader = torch.utils.data.DataLoader(\n",
    "    datasets.MNIST('data', train=True, download=True, transform=transforms.ToTensor()),\n",
    "    batch_size=1, shuffle=True)\n"
   ]
  },
  {
   "cell_type": "code",
   "execution_count": 16,
   "metadata": {},
   "outputs": [
    {
     "name": "stdout",
     "output_type": "stream",
     "text": [
      "\n",
      " 3\n",
      "[torch.LongTensor of size 1]\n",
      "\n"
     ]
    },
    {
     "data": {
      "image/png": "[encoded data removed]",
      "text/plain": [
       "<matplotlib.figure.Figure at 0x11f7bb048>"
      ]
     },
     "metadata": {},
     "output_type": "display_data"
    }
   ],
   "source": [
    "data,target = next(iter(train_loader))\n",
    "\n",
    "i = torchvision.utils.make_grid(data).numpy()\n",
    "i = np.transpose(i,(1,2,0))\n",
    "plt.imshow(i)\n",
    "\n",
    "data, target = Variable(data.view(-1, 28*28), volatile=True), Variable(target)\n",
    "output = net(data)\n",
    "prediction = output.data.max(1)[1]\n",
    "correct += prediction.eq(target.data).sum()\n",
    "# print('\\nTest set: Accuracy: {:.2f}%'.format(100. * correct / len(test_loader.dataset)))\n",
    "\n",
    "print(prediction)"
   ]
  },
  {
   "cell_type": "code",
   "execution_count": 17,
   "metadata": {},
   "outputs": [
    {
     "name": "stdout",
     "output_type": "stream",
     "text": [
      "\n",
      " 5\n",
      "[torch.LongTensor of size 1]\n",
      "\n"
     ]
    },
    {
     "data": {
      "image/png": "[encoded data removed]",
      "text/plain": [
       "<matplotlib.figure.Figure at 0x11e106048>"
      ]
     },
     "metadata": {},
     "output_type": "display_data"
    }
   ],
   "source": [
    "data,target = next(iter(train_loader))\n",
    "\n",
    "i = torchvision.utils.make_grid(data).numpy()\n",
    "i = np.transpose(i,(1,2,0))\n",
    "plt.imshow(i)\n",
    "\n",
    "data, target = Variable(data.view(-1, 28*28), volatile=True), Variable(target)\n",
    "output = net(data)\n",
    "prediction = output.data.max(1)[1]\n",
    "correct += prediction.eq(target.data).sum()\n",
    "# print('\\nTest set: Accuracy: {:.2f}%'.format(100. * correct / len(test_loader.dataset)))\n",
    "\n",
    "print(prediction)"
   ]
  },
  {
   "cell_type": "code",
   "execution_count": 18,
   "metadata": {},
   "outputs": [
    {
     "name": "stdout",
     "output_type": "stream",
     "text": [
      "\n",
      " 3\n",
      "[torch.LongTensor of size 1]\n",
      "\n"
     ]
    },
    {
     "data": {
      "image/png": "[encoded data removed]",
      "text/plain": [
       "<matplotlib.figure.Figure at 0x124dca5c0>"
      ]
     },
     "metadata": {},
     "output_type": "display_data"
    }
   ],
   "source": [
    "data,target = next(iter(train_loader))\n",
    "\n",
    "i = torchvision.utils.make_grid(data).numpy()\n",
    "i = np.transpose(i,(1,2,0))\n",
    "plt.imshow(i)\n",
    "\n",
    "data, target = Variable(data.view(-1, 28*28), volatile=True), Variable(target)\n",
    "output = net(data)\n",
    "prediction = output.data.max(1)[1]\n",
    "correct += prediction.eq(target.data).sum()\n",
    "# print('\\nTest set: Accuracy: {:.2f}%'.format(100. * correct / len(test_loader.dataset)))\n",
    "\n",
    "print(prediction)"
   ]
  },
  {
   "cell_type": "code",
   "execution_count": null,
   "metadata": {
    "collapsed": true
   },
   "outputs": [],
   "source": []
  }
 ],
 "metadata": {
  "kernelspec": {
   "display_name": "Python 3",
   "language": "python",
   "name": "python3"
  },
  "language_info": {
   "codemirror_mode": {
    "name": "ipython",
    "version": 3
   },
   "file_extension": ".py",
   "mimetype": "text/x-python",
   "name": "python",
   "nbconvert_exporter": "python",
   "pygments_lexer": "ipython3",
   "version": "3.6.1"
  }
 },
 "nbformat": 4,
 "nbformat_minor": 2
}
